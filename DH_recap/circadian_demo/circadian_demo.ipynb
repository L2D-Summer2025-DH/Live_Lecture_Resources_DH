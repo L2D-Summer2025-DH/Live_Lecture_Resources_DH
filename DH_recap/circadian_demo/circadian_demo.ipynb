{
 "cells": [
  {
   "cell_type": "code",
   "execution_count": null,
   "metadata": {},
   "outputs": [],
   "source": [
    "import pandas as pd\n",
    "import numpy as np\n",
    "\n",
    "import seaborn as sns"
   ]
  },
  {
   "cell_type": "code",
   "execution_count": null,
   "metadata": {},
   "outputs": [],
   "source": [
    "meta = pd.read_pickle(\"./data/circadian_metadata.pkl\")"
   ]
  },
  {
   "cell_type": "code",
   "execution_count": null,
   "metadata": {},
   "outputs": [],
   "source": [
    "data = pd.read_pickle(\"./data/circadian.pkl\")"
   ]
  },
  {
   "cell_type": "code",
   "execution_count": null,
   "metadata": {},
   "outputs": [],
   "source": [
    "data"
   ]
  },
  {
   "cell_type": "code",
   "execution_count": null,
   "metadata": {},
   "outputs": [],
   "source": [
    "data.describe()"
   ]
  },
  {
   "cell_type": "code",
   "execution_count": null,
   "metadata": {},
   "outputs": [],
   "source": [
    "data[data['id'] == '2017-01-16 08:00:00|circadian.txt|01']"
   ]
  },
  {
   "cell_type": "code",
   "execution_count": null,
   "metadata": {},
   "outputs": [],
   "source": [
    "data['x_diff'] = abs(data['x_pos'].diff())"
   ]
  },
  {
   "cell_type": "code",
   "execution_count": null,
   "metadata": {},
   "outputs": [],
   "source": [
    "data['t_diff'] = data['t'].diff()"
   ]
  },
  {
   "cell_type": "code",
   "execution_count": null,
   "metadata": {},
   "outputs": [],
   "source": [
    "data['velocity'] = data['x_diff'] / data['t_diff']"
   ]
  },
  {
   "cell_type": "code",
   "execution_count": null,
   "metadata": {},
   "outputs": [],
   "source": [
    "data['moving'] = np.where(data['velocity'] > 2, True, False)"
   ]
  },
  {
   "cell_type": "code",
   "execution_count": null,
   "metadata": {},
   "outputs": [],
   "source": [
    "def find_velocity(df, velocity_value = 2):\n",
    "    \n",
    "    df['x_diff'] = abs(df['x_pos'].diff())\n",
    "    df['t_diff'] = df['t'].diff()\n",
    "    df['velocity'] = round(df['x_diff'] / df['t_diff'], 3)\n",
    "    df['moving'] = np.where(df['velocity'] > velocity_value, True, False)\n",
    "\n",
    "    return df"
   ]
  },
  {
   "cell_type": "code",
   "execution_count": null,
   "metadata": {},
   "outputs": [],
   "source": [
    "from functools import partial"
   ]
  },
  {
   "cell_type": "code",
   "execution_count": null,
   "metadata": {},
   "outputs": [],
   "source": [
    "mov_df = data.groupby('id', group_keys=False)[['id', 't', 'x_pos']].apply(\n",
    "    partial(find_velocity, velocity_value = 2)\n",
    ")"
   ]
  },
  {
   "cell_type": "code",
   "execution_count": null,
   "metadata": {},
   "outputs": [],
   "source": [
    "result_df = data.copy()\n",
    "\n",
    "result_df['velocity'] = np.nan\n",
    "\n",
    "for series_id in result_df['id'].unique():\n",
    "    mask = result_df['id'] == series_id\n",
    "    series_data = result_df[mask].copy()\n",
    "    \n",
    "    pos_diff = abs(series_data['x_pos'].diff())\n",
    "    time_diff = series_data['t'].diff()\n",
    "    velocity_calc = pos_diff / time_diff\n",
    "    \n",
    "    result_df.loc[mask, 'velocity'] = velocity_calc.round(3)\n",
    "\n",
    "velocity_value = 2\n",
    "\n",
    "result_df['moving'] = np.where(result_df['velocity'] > velocity_value, True, False)\n"
   ]
  },
  {
   "cell_type": "code",
   "execution_count": null,
   "metadata": {},
   "outputs": [],
   "source": [
    "velocity_calc.index"
   ]
  },
  {
   "cell_type": "code",
   "execution_count": null,
   "metadata": {},
   "outputs": [],
   "source": [
    "result_df"
   ]
  },
  {
   "cell_type": "code",
   "execution_count": null,
   "metadata": {},
   "outputs": [],
   "source": [
    "mov_df"
   ]
  },
  {
   "cell_type": "code",
   "execution_count": null,
   "metadata": {},
   "outputs": [],
   "source": [
    "all(mov_df['velocity'][mov_df['id'] == '2017-01-16 08:00:00|circadian.txt|01'].values[1:] == result_df['velocity'][mov_df['id'] == '2017-01-16 08:00:00|circadian.txt|01'].values[1:])"
   ]
  },
  {
   "cell_type": "markdown",
   "metadata": {},
   "source": [
    "### Plotting attempts"
   ]
  },
  {
   "cell_type": "code",
   "execution_count": null,
   "metadata": {},
   "outputs": [],
   "source": [
    "sns.lineplot(mov_df, x = 't', y = 'velocity', hue = 'id');"
   ]
  },
  {
   "cell_type": "code",
   "execution_count": null,
   "metadata": {},
   "outputs": [],
   "source": [
    "sns.boxplot(mov_df, x = 'id', y = 'velocity', hue = 'id');"
   ]
  },
  {
   "cell_type": "markdown",
   "metadata": {},
   "source": [
    "### But we're atually interested in their experimental groups, not the individual"
   ]
  },
  {
   "cell_type": "code",
   "execution_count": null,
   "metadata": {},
   "outputs": [],
   "source": [
    "map_dict = meta['exp_group'].to_dict()"
   ]
  },
  {
   "cell_type": "code",
   "execution_count": null,
   "metadata": {},
   "outputs": [],
   "source": [
    "mov_df['group'] = mov_df['id'].map(map_dict)"
   ]
  },
  {
   "cell_type": "code",
   "execution_count": null,
   "metadata": {},
   "outputs": [],
   "source": [
    "mov_df.head()"
   ]
  },
  {
   "cell_type": "code",
   "execution_count": null,
   "metadata": {},
   "outputs": [],
   "source": [
    "sns.boxplot(mov_df, x = 'group', y = 'velocity', hue = 'group');"
   ]
  },
  {
   "cell_type": "markdown",
   "metadata": {},
   "source": [
    "### Be careful of averaging all data points and not the average per specimen"
   ]
  },
  {
   "cell_type": "code",
   "execution_count": null,
   "metadata": {},
   "outputs": [],
   "source": [
    "avg_df = mov_df.groupby('id').mean()"
   ]
  },
  {
   "cell_type": "code",
   "execution_count": null,
   "metadata": {},
   "outputs": [],
   "source": [
    "avg_df"
   ]
  },
  {
   "cell_type": "code",
   "execution_count": null,
   "metadata": {},
   "outputs": [],
   "source": [
    "avg_df['group'] = avg_df['group'].astype(int)"
   ]
  },
  {
   "cell_type": "code",
   "execution_count": null,
   "metadata": {},
   "outputs": [],
   "source": [
    "sns.boxplot(avg_df, x = 'group', y = 'velocity', hue = 'group')"
   ]
  },
  {
   "cell_type": "markdown",
   "metadata": {},
   "source": [
    "## Plotting as a time series"
   ]
  },
  {
   "cell_type": "code",
   "execution_count": null,
   "metadata": {},
   "outputs": [],
   "source": [
    "from math import floor\n",
    "import matplotlib.pyplot as plt "
   ]
  },
  {
   "cell_type": "code",
   "execution_count": null,
   "metadata": {},
   "outputs": [],
   "source": [
    "bin_time = 40 * 60 # 10 minutes\n",
    "\n",
    "mov_df['t_round'] = mov_df['t'].map(\n",
    "            lambda t: bin_time * floor(t / bin_time)\n",
    "        )"
   ]
  },
  {
   "cell_type": "code",
   "execution_count": null,
   "metadata": {},
   "outputs": [],
   "source": [
    "mov_df['t_hours'] = mov_df['t_round'] / (60*60)"
   ]
  },
  {
   "cell_type": "code",
   "execution_count": null,
   "metadata": {},
   "outputs": [],
   "source": [
    "def start_0(data):\n",
    "\n",
    "    filt = data[data['t_hours'] >= 24]\n",
    "    filt['t_hours'] = filt['t_hours'] - 24\n",
    "    filt\n",
    "\n",
    "    return filt"
   ]
  },
  {
   "cell_type": "code",
   "execution_count": null,
   "metadata": {},
   "outputs": [],
   "source": [
    "filt_df = mov_df.groupby('id', group_keys=False).apply(\n",
    "    start_0)"
   ]
  },
  {
   "cell_type": "code",
   "execution_count": null,
   "metadata": {},
   "outputs": [],
   "source": [
    "filt_df"
   ]
  },
  {
   "cell_type": "code",
   "execution_count": null,
   "metadata": {},
   "outputs": [],
   "source": [
    "avg_df = filt_df.groupby(['id', 't_hours'])[['velocity', 'moving']].mean()"
   ]
  },
  {
   "cell_type": "code",
   "execution_count": null,
   "metadata": {},
   "outputs": [],
   "source": [
    "avg_df"
   ]
  },
  {
   "cell_type": "code",
   "execution_count": null,
   "metadata": {},
   "outputs": [],
   "source": [
    "sns.lineplot(avg_df, x = 't_hours', y = 'velocity', hue = 'id')"
   ]
  },
  {
   "cell_type": "code",
   "execution_count": null,
   "metadata": {},
   "outputs": [],
   "source": [
    "avg_df['group'] = avg_df.index.get_level_values(0).map(map_dict)"
   ]
  },
  {
   "cell_type": "code",
   "execution_count": null,
   "metadata": {},
   "outputs": [],
   "source": [
    "avg_df"
   ]
  },
  {
   "cell_type": "code",
   "execution_count": null,
   "metadata": {},
   "outputs": [],
   "source": [
    "sns.lineplot(avg_df, x = 't_hours', y = 'velocity', hue = 'group', palette = 'Set2', linewidth = 0.8)"
   ]
  },
  {
   "cell_type": "code",
   "execution_count": null,
   "metadata": {},
   "outputs": [],
   "source": [
    "filt_df"
   ]
  },
  {
   "cell_type": "code",
   "execution_count": null,
   "metadata": {},
   "outputs": [],
   "source": [
    "fig, axes = plt.subplots(figsize=(14, 10))\n",
    "\n",
    "# Colour dictionary\n",
    "colors = {1 : 'red', 2 : 'blue', 3 : 'green'}\n",
    "\n",
    "for group in set(filt_df['group']):\n",
    "\n",
    "    group_data = filt_df[filt_df['group'] == group]\n",
    "    \n",
    "    # Average across individuals in the group\n",
    "    avg_activity = group_data.groupby('t_hours')['moving'].agg(['mean', 'std', 'count']).reset_index()\n",
    "    \n",
    "    # Calculate standard error \n",
    "    avg_activity['sem'] = avg_activity['std'] / np.sqrt(avg_activity['count'])\n",
    "        \n",
    "    # Plot line\n",
    "    axes.plot(avg_activity['t_hours'], avg_activity['mean'], \n",
    "              label=f'Group {group}', linewidth=1, color = colors[group])\n",
    "    \n",
    "    # Fill between with the same colour\n",
    "    axes.fill_between(avg_activity['t_hours'], \n",
    "                      np.maximum(0, avg_activity['mean'] - avg_activity['sem']),\n",
    "                      np.minimum(1, avg_activity['mean'] + avg_activity['sem']), \n",
    "                      alpha=0.3, color = colors[group])\n",
    "\n",
    "axes.set_xlabel('Time (hours)')\n",
    "axes.set_ylabel('Fraction of time moving')\n",
    "axes.set_title('Activity Patterns Over Time')\n",
    "axes.legend()\n",
    "axes.grid(True, alpha=0.3)\n",
    "plt.show()"
   ]
  }
 ],
 "metadata": {
  "kernelspec": {
   "display_name": "lecture-resources",
   "language": "python",
   "name": "python3"
  },
  "language_info": {
   "codemirror_mode": {
    "name": "ipython",
    "version": 3
   },
   "file_extension": ".py",
   "mimetype": "text/x-python",
   "name": "python",
   "nbconvert_exporter": "python",
   "pygments_lexer": "ipython3",
   "version": "3.13.2"
  }
 },
 "nbformat": 4,
 "nbformat_minor": 2
}
